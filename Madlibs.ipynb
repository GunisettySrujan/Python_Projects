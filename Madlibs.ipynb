{
 "cells": [
  {
   "cell_type": "code",
   "execution_count": 4,
   "metadata": {},
   "outputs": [],
   "source": [
    "from tkinter import *"
   ]
  },
  {
   "cell_type": "code",
   "execution_count": 5,
   "metadata": {},
   "outputs": [],
   "source": [
    "root = Tk()\n",
    "root.geometry('300x300')\n",
    "root.title('DataFlair-Mad Libs Generator')\n",
    "Label(root, text= 'Mad Libs Generator \\n Have Fun!' , font = 'arial 20 bold').pack()\n",
    "Label(root, text = 'Click Any One :', font = 'arial 15 bold').place(x=40, y=80)"
   ]
  },
  {
   "cell_type": "code",
   "execution_count": 6,
   "metadata": {},
   "outputs": [],
   "source": [
    "def madlib1():\n",
    "\n",
    "    animals= input('enter a animal name : ')\n",
    "    profession = input('enter a profession name: ')\n",
    "    cloth = input('enter a piece of cloth name: ')\n",
    "    things = input('enter a thing name: ')\n",
    "    name= input('enter a name: ')\n",
    "    place = input('enter a place name: ')\n",
    "    verb = input('enter a verb in ing form: ')\n",
    "    food = input('food name: ')\n",
    "    print('say ' + food + ', the photographer said as the camera flashed! ' + name + ' and I had gone to ' + place +' to get our photos taken on my birthday. The first photo we really wanted was a picture of us dressed as ' + animals + ' pretending to be a ' + profession + '. when we saw the second photo, it was exactly what I wanted. We both looked like ' + things + ' wearing ' + cloth + ' and ' + verb + ' --exactly what I had in mind')\n",
    "\n",
    "\n",
    "def madlib2():\n",
    "   \n",
    "    adjactive = input('enter adjective : ')\n",
    "    color = input('enter a color name : ')\n",
    "    thing = input('enter a thing name :')\n",
    "    place = input('enter a place name : ')\n",
    "    person= input('enter a person name : ')\n",
    "    adjactive1 = input('enter a adjactive : ')\n",
    "    insect= input('enter a insect name : ')\n",
    "    food = input('enter a food name : ')\n",
    "    verb = input('enter a verb name : ')\n",
    "\n",
    "    print('Last night I dreamed I was a ' +adjactive+ ' butterfly with ' + color+ ' splocthes that looked like '+thing+ ' .I flew to ' + place+ ' with my bestfriend and '+person+ ' who was a '+adjactive1+ ' ' +insect +' .We ate some ' +food+ ' when we got there and then decided to '+verb+ ' and the dream ended when I said-- lets ' +verb+ '.')\n",
    "\n",
    "\n",
    "def madlib3():\n",
    "        \n",
    "    color = input(\"Enter a color: \")\n",
    "    pluralNoun = input(\"Enter a plural noun: \")\n",
    "    celebrity = input(\"Enter a celebrity: \")\n",
    "\n",
    "    print(\"Roses are\", color)\n",
    "    print(pluralNoun + \" are blue\")\n",
    "    print(\"I love\", celebrity)\n"
   ]
  },
  {
   "cell_type": "code",
   "execution_count": null,
   "metadata": {},
   "outputs": [
    {
     "name": "stdout",
     "output_type": "stream",
     "text": [
      "enter a animal name : lion\n",
      "enter a profession name: doctor\n",
      "enter a piece of cloth name: ramraj\n",
      "enter a thing name: book\n",
      "enter a name: rosy\n",
      "enter a place name: mumbai\n",
      "enter a verb in ing form: thinking\n",
      "food name: chicken\n",
      "say chicken, the photographer said as the camera flashed! rosy and I had gone to mumbai to get our photos taken on my birthday. The first photo we really wanted was a picture of us dressed as lion pretending to be a doctor. when we saw the second photo, it was exactly what I wanted. We both looked like book wearing ramraj and thinking --exactly what I had in mind\n"
     ]
    }
   ],
   "source": [
    "Button(root, text= 'The Photographer', font ='arial 15', command= madlib1, bg = 'ghost white').place(x=60, y=120)\n",
    "Button(root, text= 'apple and apple', font ='arial 15', command = madlib3 , bg = 'ghost white').place(x=70, y=180)\n",
    "Button(root, text= 'The Butterfly', font ='arial 15', command = madlib2, bg = 'ghost white').place(x=80, y=240)\n",
    "\n",
    "root.mainloop()"
   ]
  },
  {
   "cell_type": "code",
   "execution_count": null,
   "metadata": {},
   "outputs": [],
   "source": []
  }
 ],
 "metadata": {
  "kernelspec": {
   "display_name": "Python 3",
   "language": "python",
   "name": "python3"
  },
  "language_info": {
   "codemirror_mode": {
    "name": "ipython",
    "version": 3
   },
   "file_extension": ".py",
   "mimetype": "text/x-python",
   "name": "python",
   "nbconvert_exporter": "python",
   "pygments_lexer": "ipython3",
   "version": "3.8.5"
  }
 },
 "nbformat": 4,
 "nbformat_minor": 4
}
