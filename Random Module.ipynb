{
 "cells": [
  {
   "cell_type": "code",
   "execution_count": 125,
   "metadata": {},
   "outputs": [
    {
     "name": "stdout",
     "output_type": "stream",
     "text": [
      "79356\n",
      "-64\n",
      "0.4496005725975861\n",
      "m\n"
     ]
    },
    {
     "data": {
      "text/plain": [
       "[65, 43, 67, 45, 12, 23]"
      ]
     },
     "execution_count": 125,
     "metadata": {},
     "output_type": "execute_result"
    }
   ],
   "source": [
    "# importing the random module\n",
    "import random\n",
    "# Printing the random between the range\n",
    "print(random.randint(0,99999))\n",
    "print(random.randint(-99,-1))\n",
    "# printing random float values between 0.0 to 1.0. The function does not neet any arguments\n",
    "print(random.random()) \n",
    "# choice prints the randomly selected element from the sequence.\n",
    "print(random.choice('computer'))\n",
    "# shuffles the elements randomly in a list. \n",
    "numbers=[12,23,45,67,65,43]\n",
    "random.shuffle(numbers)\n",
    "numbers"
   ]
  }
 ],
 "metadata": {
  "kernelspec": {
   "display_name": "Python 3",
   "language": "python",
   "name": "python3"
  },
  "language_info": {
   "codemirror_mode": {
    "name": "ipython",
    "version": 3
   },
   "file_extension": ".py",
   "mimetype": "text/x-python",
   "name": "python",
   "nbconvert_exporter": "python",
   "pygments_lexer": "ipython3",
   "version": "3.8.5"
  }
 },
 "nbformat": 4,
 "nbformat_minor": 4
}
